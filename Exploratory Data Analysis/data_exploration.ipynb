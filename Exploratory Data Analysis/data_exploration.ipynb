{
 "cells": [
  {
   "cell_type": "markdown",
   "id": "b08e1f05-7976-419f-9fc1-8384468cfef9",
   "metadata": {
    "tags": []
   },
   "source": [
    "# Exploratory data Analysis"
   ]
  },
  {
   "cell_type": "code",
   "execution_count": null,
   "id": "6c12fbd5-7afe-4a76-9e9a-edcd1bca6daa",
   "metadata": {
    "tags": []
   },
   "outputs": [],
   "source": [
    "import numpy as np\n",
    "from datascience import *\n",
    "%matplotlib inline\n",
    "import matplotlib.pyplot as plt\n",
    "plt.style.use('ggplot')\n",
    "import os\n",
    "user = os.getenv('JUPYTERHUB_USER')\n",
    "import glob\n",
    "notebooks = glob.glob('*.ipynb')\n",
    "notebook = max(notebooks, key=os.path.getmtime)\n",
    "from EDS import *"
   ]
  },
  {
   "cell_type": "markdown",
   "id": "b3e1142a-b73b-4291-8bf3-38388eac60d3",
   "metadata": {},
   "source": [
    "### Load data form Fall 2023 survey of student motivation and peer learning in EDS"
   ]
  },
  {
   "cell_type": "code",
   "execution_count": null,
   "id": "1f67db6e-df77-4220-98fc-f16acaf2edd3",
   "metadata": {
    "tags": []
   },
   "outputs": [],
   "source": [
    "file = '../data/Data Science Learning Motivation Survey(1-45).csv'\n",
    "data = Table().read_table(file)"
   ]
  },
  {
   "cell_type": "code",
   "execution_count": null,
   "id": "c118f0fb-f00c-4d7e-bb31-c6459c4d0003",
   "metadata": {
    "tags": []
   },
   "outputs": [],
   "source": [
    "data"
   ]
  },
  {
   "cell_type": "code",
   "execution_count": null,
   "id": "b301d15a-627f-4ca6-8d03-4ff544c5264d",
   "metadata": {},
   "outputs": [],
   "source": []
  }
 ],
 "metadata": {
  "kernelspec": {
   "display_name": "Python 3 (ipykernel)",
   "language": "python",
   "name": "python3"
  },
  "language_info": {
   "codemirror_mode": {
    "name": "ipython",
    "version": 3
   },
   "file_extension": ".py",
   "mimetype": "text/x-python",
   "name": "python",
   "nbconvert_exporter": "python",
   "pygments_lexer": "ipython3",
   "version": "3.10.11"
  }
 },
 "nbformat": 4,
 "nbformat_minor": 5
}
