{
 "cells": [
  {
   "cell_type": "markdown",
   "id": "669cfeb7-d672-4b8c-8e3e-ba15dd6dc83a",
   "metadata": {},
   "source": [
    "## Data Science for Teaching Fellows"
   ]
  },
  {
   "cell_type": "markdown",
   "id": "ea6a1f25-afab-43ba-b3a5-cf7cc6a196b7",
   "metadata": {},
   "source": [
    "<img src=\"Temple_flag_morn.png\" alt=\"Temple Powered\" style=\"width: 200px;\"/>"
   ]
  },
  {
   "cell_type": "markdown",
   "id": "a73c3d7b-4a3a-4a51-814b-0dad926b1cb7",
   "metadata": {},
   "source": [
    "## Resources\n",
    "- [Inferential Thinking Online Text](https://inferentialthinking.com/chapters/intro.html)\n",
    "- [Datascience Table Reference](http://data8.org/datascience/index.html)\n",
    "- [Data Science Primer BETA](https://laserchemist.github.io/dprimer/intro.html)\n",
    "- [EDS Course Website and Resources](https://sites.temple.edu/data/)\n",
    "\n",
    "## Modules\t\t\n",
    "### Theory of Learning and Motivation\t\n",
    "- Content available in Canvas \n",
    "\n",
    "\n",
    "### Analysis of data on student learning and motivation\t\n",
    "- Refresher and Introduction on Python in Jupyter Notebooks: [Link](https://temple.2i2c.cloud/hub/user-redirect/lab/tree/STEMDATATEACH/Jupyter_Book_Intro/Module01_intro.ipynb) \n",
    "- [Python Refresher](https://temple.2i2c.cloud/hub/user-redirect/lab/tree/STEMDATATEACH/Python_Intro/Module02_dataTypes.ipynb)\t\n",
    "\n",
    "### Inital Data Set\n",
    "- [Exploratory Data Analysis](https://temple.2i2c.cloud/hub/user-redirect/lab/tree/STEMDATATEACH/Exploratory%20Data%20Analysis/data_exploration.ipynb)\n",
    "\n",
    "### Natural Language Processing: Deeper Analysis of data on student learning and motivation\t\n",
    "- [Natural Language Processing](https://temple.2i2c.cloud/hub/user-redirect/lab/tree/STEMDATATEACH/NLP/NLP-SWS.ipynb)\t\n"
   ]
  }
 ],
 "metadata": {
  "kernelspec": {
   "display_name": "Python 3 (ipykernel)",
   "language": "python",
   "name": "python3"
  },
  "language_info": {
   "codemirror_mode": {
    "name": "ipython",
    "version": 3
   },
   "file_extension": ".py",
   "mimetype": "text/x-python",
   "name": "python",
   "nbconvert_exporter": "python",
   "pygments_lexer": "ipython3",
   "version": "3.10.11"
  }
 },
 "nbformat": 4,
 "nbformat_minor": 5
}
