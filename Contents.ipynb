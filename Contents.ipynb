{
 "cells": [
  {
   "cell_type": "markdown",
   "id": "96ed8521-2093-4b44-a427-3fe7feb16907",
   "metadata": {},
   "source": [
    "# Data Analytics\n",
    "- Introduction to Machine Learning and Natural Language pocessing using Python\n",
    "--- "
   ]
  },
  {
   "cell_type": "markdown",
   "id": "8f472bc2-149f-4ae7-9224-11b77305ae9a",
   "metadata": {},
   "source": [
    "## Contents\n",
    "- [Learn to work with Jupyter Books](https://quantum-data.xyz/hub/user-redirect/lab/tree/RTC%3ADataAnalytics/Jupyter_Book_Intro/Module01_intro.ipynb)\n",
    "- [Python Introduction](https://quantum-data.xyz/hub/user-redirect/lab/tree/RTC%3ADataAnalytics/Python_Intro/Module02_dataTypes.ipynb)\n",
    "- [Natural Language Processing](https://quantum-data.xyz/hub/user-redirect/lab/tree/RTC%3ADataAnalytics/NLP/NLP-SWS.ipynb)"
   ]
  }
 ],
 "metadata": {
  "kernelspec": {
   "display_name": "Python 3 (ipykernel)",
   "language": "python",
   "name": "python3"
  },
  "language_info": {
   "codemirror_mode": {
    "name": "ipython",
    "version": 3
   },
   "file_extension": ".py",
   "mimetype": "text/x-python",
   "name": "python",
   "nbconvert_exporter": "python",
   "pygments_lexer": "ipython3",
   "version": "3.9.12"
  }
 },
 "nbformat": 4,
 "nbformat_minor": 5
}
